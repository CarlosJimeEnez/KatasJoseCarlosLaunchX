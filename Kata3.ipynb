{
 "cells": [
  {
   "cell_type": "markdown",
   "metadata": {},
   "source": [
    "Ejercicio 1"
   ]
  },
  {
   "cell_type": "code",
   "execution_count": null,
   "metadata": {},
   "outputs": [],
   "source": [
    "vel_asteroide = 49 \n",
    "if (vel_asteroide > 25): \n",
    "    print(\"Advertencia de alta vel\")\n",
    "else: \n",
    "    print('Todo normal')"
   ]
  },
  {
   "cell_type": "markdown",
   "metadata": {},
   "source": [
    "Ejerciccio 2"
   ]
  },
  {
   "cell_type": "code",
   "execution_count": null,
   "metadata": {},
   "outputs": [],
   "source": [
    "vel_asteroide = 19\n",
    "if (vel_asteroide > 20 ): \n",
    "    print('Un bonito rayo de luz en el cielo uwu')\n",
    "elif(vel_asteroide == 20): \n",
    "    print('Un bonito rayo de luz en el cielo uwu')\n",
    "else: \n",
    "    print(\"Todo normal\")"
   ]
  },
  {
   "cell_type": "markdown",
   "metadata": {},
   "source": [
    "Ejercicio 3"
   ]
  },
  {
   "cell_type": "code",
   "execution_count": null,
   "metadata": {},
   "outputs": [],
   "source": [
    "velocidad_asteroide = 25\n",
    "tamano_asteroide = 40\n",
    "if (25 < tamano_asteroide and tamano_asteroide < 1000): \n",
    "    print('Un asteroide se chocará a la tierra')\n",
    "elif (velocidad_asteroide > 25): \n",
    "    print(\"Un asteroide chocara la tierra\")\n",
    "elif(velocidad_asteroide >= 20): \n",
    "    print( print('Un bonito rayo de luz en el cielo uwu'))\n",
    "else: \n",
    "        print(\"Todo normal\")"
   ]
  }
 ],
 "metadata": {
  "language_info": {
   "name": "python"
  },
  "orig_nbformat": 4
 },
 "nbformat": 4,
 "nbformat_minor": 2
}
