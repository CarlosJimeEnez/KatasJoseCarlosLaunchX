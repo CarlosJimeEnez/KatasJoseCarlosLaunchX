{
 "cells": [
  {
   "cell_type": "code",
   "execution_count": null,
   "metadata": {},
   "outputs": [],
   "source": [
    "# Función para leer 3 tanques de combustible y muestre el promedio\\\n",
    "def read_something(tanque1, tanque2, tanque3):\n",
    "    return f'''Tanque 1 {tanque1}, Tanqeu 2 {tanque2} Tanque 2 {tanque3} '''\n",
    "\n",
    "print(read_something(1,23,3))"
   ]
  },
  {
   "cell_type": "code",
   "execution_count": null,
   "metadata": {},
   "outputs": [],
   "source": [
    "def promedio(tanq1, tanq2, tanq3): \n",
    "    return ((tanq1 + tanq2 + tanq3)/ 3) \n",
    "promedio(10,10,10)"
   ]
  },
  {
   "cell_type": "code",
   "execution_count": null,
   "metadata": {},
   "outputs": [],
   "source": [
    "def read_something(tanq1, tanq2, tanq3): \n",
    "    return f'''Promedio:{promedio(tanq1, tanq2, tanq3)}, Tanque1: {tanq1}, Tanque2: {tanq2}, Tanque3: {tanq3}'''\n",
    "read_something(12,34,45)"
   ]
  },
  {
   "cell_type": "markdown",
   "metadata": {},
   "source": [
    "Ejercicio 2"
   ]
  },
  {
   "cell_type": "code",
   "execution_count": null,
   "metadata": {},
   "outputs": [],
   "source": [
    "def informe(hora_lanzamiento, tiempo_vuelo, destino, tanq_externo, tanq_interno):\n",
    "    return f'''Hora lanzamiento: {hora_lanzamiento}\n",
    "    Tiempo de vuelo: {tiempo_vuelo}\n",
    "    Destino: {destino}\n",
    "    Tanque externo: {tanq_externo} %\n",
    "    Tanque interno: {tanq_interno} %\n",
    "    ''' \n",
    "\n",
    "print(informe(20,10000,'marte', 80, 90))"
   ]
  },
  {
   "cell_type": "code",
   "execution_count": null,
   "metadata": {},
   "outputs": [],
   "source": [
    "# Escribe tu nueva función de reporte considerando lo anterior\n",
    "def informe(hora_lanzamiento, *minutos, **reserva_convustible):\n",
    "    return f'''\n",
    "    Hora de lanzamiento: {hora_lanzamiento}\n",
    "    Reserva de combustible: {sum(reserva_convustible.values())}\n",
    "    Tiempo de vuelo: {sum(minutos)}\n",
    "    '''\n",
    "\n",
    "print(informe(20, 20,20, tanq_externo=30, tanq_interno=20))"
   ]
  },
  {
   "cell_type": "code",
   "execution_count": null,
   "metadata": {},
   "outputs": [],
   "source": [
    "# Escribe tu nueva función de reporte considerando lo anterior\n",
    "def informe(hora_lanzamiento, *minutos, **reserva_convustible):\n",
    "    reporte = f'''\n",
    "    Hora de lanzamiento: {hora_lanzamiento}\n",
    "    Reserva de combustible: {sum(reserva_convustible.values())}\n",
    "    Tiempo de vuelo: {sum(minutos)}\n",
    "    '''\n",
    "    \n",
    "    for key, value in reserva_convustible.items(): \n",
    "        reporte += f'{key} su valor es {value}'\n",
    "\n",
    "    return reporte\n",
    "print(informe(20, 20,20, tanq_externo=30, tanq_interno=20))"
   ]
  }
 ],
 "metadata": {
  "language_info": {
   "name": "python"
  },
  "orig_nbformat": 4
 },
 "nbformat": 4,
 "nbformat_minor": 2
}
